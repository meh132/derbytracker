{
 "cells": [
  {
   "cell_type": "code",
   "execution_count": 3,
   "metadata": {
    "scrolled": true
   },
   "outputs": [],
   "source": [
    "import pandas as pd;\n",
    "import numpy as np;\n",
    "import serial, time \n",
    "import json"
   ]
  },
  {
   "cell_type": "code",
   "execution_count": 4,
   "metadata": {
    "scrolled": true
   },
   "outputs": [],
   "source": [
    "#!pip install --upgrade pandas"
   ]
  },
  {
   "cell_type": "code",
   "execution_count": 2,
   "metadata": {
    "scrolled": true
   },
   "outputs": [
    {
     "name": "stdout",
     "output_type": "stream",
     "text": [
      "/dev/ttyUSB0\n"
     ]
    }
   ],
   "source": [
    "# connect to Track\n",
    "ser = serial.Serial('/dev/ttyUSB0', 9600, timeout = None)\n",
    "print(ser.name)"
   ]
  },
  {
   "cell_type": "code",
   "execution_count": 4,
   "metadata": {
    "scrolled": true
   },
   "outputs": [],
   "source": [
    "# csv or excel\n",
    "# name, car number, den, category\n",
    "\n",
    "# \"Race number\" car number\" x4, \"lane\" for heats"
   ]
  },
  {
   "cell_type": "code",
   "execution_count": 7,
   "metadata": {
    "scrolled": true
   },
   "outputs": [],
   "source": [
    "# Read from CSV to load Races\n",
    "races = pd.read_csv('races2021.csv')\n",
    "races = races.set_index('Race Number')\n",
    "#races.head()"
   ]
  },
  {
   "cell_type": "code",
   "execution_count": 8,
   "metadata": {
    "scrolled": true
   },
   "outputs": [
    {
     "data": {
      "text/html": [
       "<div>\n",
       "<style scoped>\n",
       "    .dataframe tbody tr th:only-of-type {\n",
       "        vertical-align: middle;\n",
       "    }\n",
       "\n",
       "    .dataframe tbody tr th {\n",
       "        vertical-align: top;\n",
       "    }\n",
       "\n",
       "    .dataframe thead th {\n",
       "        text-align: right;\n",
       "    }\n",
       "</style>\n",
       "<table border=\"1\" class=\"dataframe\">\n",
       "  <thead>\n",
       "    <tr style=\"text-align: right;\">\n",
       "      <th></th>\n",
       "      <th>Lane 1</th>\n",
       "      <th>Lane 2</th>\n",
       "      <th>Lane 3</th>\n",
       "      <th>Lane 4</th>\n",
       "    </tr>\n",
       "    <tr>\n",
       "      <th>Race Number</th>\n",
       "      <th></th>\n",
       "      <th></th>\n",
       "      <th></th>\n",
       "      <th></th>\n",
       "    </tr>\n",
       "  </thead>\n",
       "  <tbody>\n",
       "    <tr>\n",
       "      <th>1</th>\n",
       "      <td>1</td>\n",
       "      <td>2</td>\n",
       "      <td>3</td>\n",
       "      <td>4</td>\n",
       "    </tr>\n",
       "    <tr>\n",
       "      <th>2</th>\n",
       "      <td>5</td>\n",
       "      <td>6</td>\n",
       "      <td>7</td>\n",
       "      <td>8</td>\n",
       "    </tr>\n",
       "    <tr>\n",
       "      <th>3</th>\n",
       "      <td>11</td>\n",
       "      <td>12</td>\n",
       "      <td>13</td>\n",
       "      <td>14</td>\n",
       "    </tr>\n",
       "    <tr>\n",
       "      <th>4</th>\n",
       "      <td>15</td>\n",
       "      <td>16</td>\n",
       "      <td>17</td>\n",
       "      <td>18</td>\n",
       "    </tr>\n",
       "    <tr>\n",
       "      <th>5</th>\n",
       "      <td>2</td>\n",
       "      <td>5</td>\n",
       "      <td>10</td>\n",
       "      <td>1</td>\n",
       "    </tr>\n",
       "    <tr>\n",
       "      <th>6</th>\n",
       "      <td>3</td>\n",
       "      <td>4</td>\n",
       "      <td>6</td>\n",
       "      <td>9</td>\n",
       "    </tr>\n",
       "    <tr>\n",
       "      <th>7</th>\n",
       "      <td>19</td>\n",
       "      <td>13</td>\n",
       "      <td>11</td>\n",
       "      <td>12</td>\n",
       "    </tr>\n",
       "    <tr>\n",
       "      <th>8</th>\n",
       "      <td>16</td>\n",
       "      <td>20</td>\n",
       "      <td>21</td>\n",
       "      <td>17</td>\n",
       "    </tr>\n",
       "    <tr>\n",
       "      <th>9</th>\n",
       "      <td>4</td>\n",
       "      <td>1</td>\n",
       "      <td>5</td>\n",
       "      <td>6</td>\n",
       "    </tr>\n",
       "    <tr>\n",
       "      <th>10</th>\n",
       "      <td>7</td>\n",
       "      <td>8</td>\n",
       "      <td>9</td>\n",
       "      <td>10</td>\n",
       "    </tr>\n",
       "    <tr>\n",
       "      <th>11</th>\n",
       "      <td>14</td>\n",
       "      <td>11</td>\n",
       "      <td>16</td>\n",
       "      <td>20</td>\n",
       "    </tr>\n",
       "    <tr>\n",
       "      <th>12</th>\n",
       "      <td>18</td>\n",
       "      <td>15</td>\n",
       "      <td>12</td>\n",
       "      <td>21</td>\n",
       "    </tr>\n",
       "    <tr>\n",
       "      <th>13</th>\n",
       "      <td>6</td>\n",
       "      <td>9</td>\n",
       "      <td>2</td>\n",
       "      <td>7</td>\n",
       "    </tr>\n",
       "    <tr>\n",
       "      <th>14</th>\n",
       "      <td>8</td>\n",
       "      <td>10</td>\n",
       "      <td>1</td>\n",
       "      <td>3</td>\n",
       "    </tr>\n",
       "    <tr>\n",
       "      <th>15</th>\n",
       "      <td>17</td>\n",
       "      <td>19</td>\n",
       "      <td>14</td>\n",
       "      <td>15</td>\n",
       "    </tr>\n",
       "  </tbody>\n",
       "</table>\n",
       "</div>"
      ],
      "text/plain": [
       "             Lane 1  Lane 2  Lane 3  Lane 4\n",
       "Race Number                                \n",
       "1                 1       2       3       4\n",
       "2                 5       6       7       8\n",
       "3                11      12      13      14\n",
       "4                15      16      17      18\n",
       "5                 2       5      10       1\n",
       "6                 3       4       6       9\n",
       "7                19      13      11      12\n",
       "8                16      20      21      17\n",
       "9                 4       1       5       6\n",
       "10                7       8       9      10\n",
       "11               14      11      16      20\n",
       "12               18      15      12      21\n",
       "13                6       9       2       7\n",
       "14                8      10       1       3\n",
       "15               17      19      14      15"
      ]
     },
     "execution_count": 8,
     "metadata": {},
     "output_type": "execute_result"
    }
   ],
   "source": [
    "#races.loc[2,'Lane 2'] = 1\n",
    "races.head(15)"
   ]
  },
  {
   "cell_type": "code",
   "execution_count": null,
   "metadata": {
    "scrolled": true
   },
   "outputs": [],
   "source": [
    "# Read list of racers and cars from CSV\n",
    "\n",
    "racers = pd.read_csv('Racers.csv')\n",
    "racers = racers.set_index('Number')\n",
    "racers.head(25)"
   ]
  },
  {
   "cell_type": "code",
   "execution_count": 8,
   "metadata": {
    "scrolled": true
   },
   "outputs": [],
   "source": [
    "# ### only for WEB\n",
    "#create Race Output for Upcoming race\n",
    "# for race, build details for lane\n",
    "# get lane 1 car\n",
    "race = {}\n",
    "lane = 1\n",
    "for carNum in races.loc[1]:\n",
    "    name = racers.loc[carNum,'Name']\n",
    "    #print(lane, carNum, name)\n",
    "    details = {'car': str(carNum), 'name': name}\n",
    "    trackName = 'lane' + str(lane)\n",
    "    race[trackName] = details\n",
    "    lane = lane +1\n",
    "\n",
    "nextup = {'nextUp': race}\n",
    "with open('src/nextup.json', 'w') as outfile:\n",
    "    json.dump(nextup, outfile)\n"
   ]
  },
  {
   "cell_type": "code",
   "execution_count": 17,
   "metadata": {
    "scrolled": true
   },
   "outputs": [],
   "source": [
    "# Set Race\n",
    "current_race = 1"
   ]
  },
  {
   "cell_type": "code",
   "execution_count": 18,
   "metadata": {
    "scrolled": true
   },
   "outputs": [
    {
     "data": {
      "text/html": [
       "<div>\n",
       "<style scoped>\n",
       "    .dataframe tbody tr th:only-of-type {\n",
       "        vertical-align: middle;\n",
       "    }\n",
       "\n",
       "    .dataframe tbody tr th {\n",
       "        vertical-align: top;\n",
       "    }\n",
       "\n",
       "    .dataframe thead th {\n",
       "        text-align: right;\n",
       "    }\n",
       "</style>\n",
       "<table border=\"1\" class=\"dataframe\">\n",
       "  <thead>\n",
       "    <tr style=\"text-align: right;\">\n",
       "      <th></th>\n",
       "      <th>race</th>\n",
       "      <th>lane</th>\n",
       "      <th>car</th>\n",
       "      <th>name</th>\n",
       "      <th>time</th>\n",
       "      <th>place</th>\n",
       "      <th>den</th>\n",
       "      <th>category</th>\n",
       "    </tr>\n",
       "  </thead>\n",
       "  <tbody>\n",
       "  </tbody>\n",
       "</table>\n",
       "</div>"
      ],
      "text/plain": [
       "Empty DataFrame\n",
       "Columns: [race, lane, car, name, time, place, den, category]\n",
       "Index: []"
      ]
     },
     "execution_count": 18,
     "metadata": {},
     "output_type": "execute_result"
    }
   ],
   "source": [
    "# resultsdf = pd.DataFrame(columns=[\"Race\",\"Lane\",\"Car\",\"Time\",\"Scout\",\"Den\"])\n",
    "#resultsdf = pd.DataFrame(columns=[\"Race\",\"Lane\",\"Car\",\"Time\"])\n",
    "\n",
    "resultsdf = pd.DataFrame(columns=['race', 'lane', 'car', 'name', 'time', 'place', 'den', 'category'])\n",
    "resultsdf.head()"
   ]
  },
  {
   "cell_type": "markdown",
   "metadata": {},
   "source": [
    "# Start of the Race process"
   ]
  },
  {
   "cell_type": "code",
   "execution_count": 114,
   "metadata": {
    "scrolled": true
   },
   "outputs": [],
   "source": [
    "# set current race if needed\n",
    "current_race = 13"
   ]
  },
  {
   "cell_type": "code",
   "execution_count": 115,
   "metadata": {
    "scrolled": true
   },
   "outputs": [
    {
     "name": "stdout",
     "output_type": "stream",
     "text": [
      "13\n"
     ]
    }
   ],
   "source": [
    "print(current_race)"
   ]
  },
  {
   "cell_type": "code",
   "execution_count": 23,
   "metadata": {
    "scrolled": true
   },
   "outputs": [
    {
     "name": "stdout",
     "output_type": "stream",
     "text": [
      "Lane 1    1\n",
      "Lane 2    2\n",
      "Lane 3    3\n",
      "Lane 4    4\n",
      "Name: 1, dtype: int64\n"
     ]
    }
   ],
   "source": [
    "# show curret race\n",
    "current_contestants = races.loc[current_race]\n",
    "print(races.loc[current_race])"
   ]
  },
  {
   "cell_type": "code",
   "execution_count": 10,
   "metadata": {
    "scrolled": true
   },
   "outputs": [
    {
     "name": "stdout",
     "output_type": "stream",
     "text": [
      "Series([], Name: 1, dtype: int64)\n"
     ]
    }
   ],
   "source": [
    "new1 = current_contestants[current_contestants == 0]\n",
    "print(new1)"
   ]
  },
  {
   "cell_type": "code",
   "execution_count": null,
   "metadata": {
    "scrolled": true
   },
   "outputs": [],
   "source": [
    "# Reverse Lane order\n",
    "command = 'ov1'+'\\r\\n'\n",
    "newcommand = command.encode('ascii')\n",
    "ser.write(newcommand)\n",
    "results = ser.readline()\n",
    "print(laneresults)\n",
    "\n",
    "\n",
    "# confirm Lane Results"
   ]
  },
  {
   "cell_type": "code",
   "execution_count": 11,
   "metadata": {
    "scrolled": true
   },
   "outputs": [
    {
     "data": {
      "text/plain": [
       "3"
      ]
     },
     "execution_count": 11,
     "metadata": {},
     "output_type": "execute_result"
    }
   ],
   "source": [
    "# Reset Track if needed\n",
    "#Reset Track\n",
    "command = 'r'+'\\r\\n'\n",
    "newcommand = command.encode('ascii')\n",
    "ser.write(newcommand)"
   ]
  },
  {
   "cell_type": "markdown",
   "metadata": {},
   "source": [
    "## Run Race\n"
   ]
  },
  {
   "cell_type": "markdown",
   "metadata": {},
   "source": [
    "### Call out # of lanes and race number\n"
   ]
  },
  {
   "cell_type": "code",
   "execution_count": 158,
   "metadata": {
    "scrolled": true
   },
   "outputs": [
    {
     "name": "stdout",
     "output_type": "stream",
     "text": [
      "In Race 21 the following cars are racing: \n",
      "Lane 1    11\n",
      "Lane 2    13\n",
      "Lane 3    15\n",
      "Lane 4    17\n",
      "Name: 21, dtype: int64\n"
     ]
    }
   ],
   "source": [
    "print('In Race ' + str(current_race) + ' the following cars are racing: \\n'+ str(races.loc[current_race]))"
   ]
  },
  {
   "cell_type": "code",
   "execution_count": 30,
   "metadata": {
    "scrolled": true
   },
   "outputs": [
    {
     "name": "stdout",
     "output_type": "stream",
     "text": [
      "1=9.9999  2=9.9999  3=9.9999  4=9.9999  \r\n",
      "\n"
     ]
    }
   ],
   "source": [
    "# Turn on all Lanes   om# is used to turn off track\n",
    "command = 'om0'+'\\r\\n'\n",
    "newcommand = command.encode('ascii')\n",
    "ser.write(newcommand)\n",
    "returnmessage = ser.readline()\n",
    "print(returnmessage.decode())"
   ]
  },
  {
   "cell_type": "code",
   "execution_count": 13,
   "metadata": {
    "scrolled": true
   },
   "outputs": [
    {
     "name": "stdout",
     "output_type": "stream",
     "text": [
      "om3\r\n",
      "\n",
      "?\r\n",
      "\n"
     ]
    }
   ],
   "source": [
    "# Turn off tracks that are not being used\n",
    "# lanesToBlock = [1,4]\n",
    "#lanesToBlock = [3]\n",
    "\n",
    "for x in (lanesToBlock):\n",
    "    #lanenum = (x[4:5])\n",
    "    #command = 'om' + lanenum +'\\r\\n'\n",
    "    command = 'om' + str(x) +'\\r\\n'\n",
    "    print(command)\n",
    "    newcommand = command.encode('ascii')\n",
    "    ser.write(newcommand)\n",
    "    returnmessage = ser.readline()\n",
    "    print(returnmessage.decode())"
   ]
  },
  {
   "cell_type": "code",
   "execution_count": null,
   "metadata": {},
   "outputs": [],
   "source": [
    "#current_race = 4"
   ]
  },
  {
   "cell_type": "code",
   "execution_count": 86,
   "metadata": {
    "scrolled": true
   },
   "outputs": [
    {
     "name": "stdout",
     "output_type": "stream",
     "text": [
      "['1=3.27452', '2=3.24041', '3=3.35533', '4=3.39354']\n"
     ]
    }
   ],
   "source": [
    "\n",
    "# Get Race Results\n",
    "# get race results\n",
    "command = 'rg'+'\\r\\n'\n",
    "newcommand = command.encode('ascii')\n",
    "ser.write(newcommand)\n",
    "results = ser.readline()\n",
    "laneresults = results.decode().split()\n",
    "print(laneresults)\n",
    "\n",
    "\n",
    "# confirm Lane Results"
   ]
  },
  {
   "cell_type": "markdown",
   "metadata": {},
   "source": [
    "# Force finish race "
   ]
  },
  {
   "cell_type": "code",
   "execution_count": 159,
   "metadata": {
    "scrolled": true
   },
   "outputs": [],
   "source": [
    "# force race end\n",
    "command = 'ra'+'\\r\\n'\n",
    "newcommand = command.encode('ascii')\n",
    "ser.write(newcommand)\n",
    "results = ser.readline()\n",
    "\n"
   ]
  },
  {
   "cell_type": "code",
   "execution_count": 160,
   "metadata": {
    "scrolled": true
   },
   "outputs": [
    {
     "name": "stdout",
     "output_type": "stream",
     "text": [
      "['1=7.16754', '2=4.47692', '3=4.78003', '4=3.40431']\n"
     ]
    }
   ],
   "source": [
    "\n",
    "# Get Race Results\n",
    "# get race results\n",
    "command = 'rp'+'\\r\\n'\n",
    "newcommand = command.encode('ascii')\n",
    "ser.write(newcommand)\n",
    "results = ser.readline()\n",
    "laneresults = results.decode().split()\n",
    "print(laneresults)\n"
   ]
  },
  {
   "cell_type": "code",
   "execution_count": 161,
   "metadata": {
    "scrolled": true
   },
   "outputs": [
    {
     "name": "stdout",
     "output_type": "stream",
     "text": [
      "Confirm Results: \n",
      "['1=7.16754', '2=4.47692', '3=4.78003', '4=3.40431']\n"
     ]
    }
   ],
   "source": [
    "#laneresults = ['1=1.17041', '2=5.41592', '3=3.54623', '4=3.72464']\n",
    "#laneresults = ['1=3.06202', '2=3.15254', '3=3.03381', '4=3.12463']\n",
    "print('Confirm Results: \\n' + str(laneresults))"
   ]
  },
  {
   "cell_type": "markdown",
   "metadata": {},
   "source": [
    "## Write Results to results df\n"
   ]
  },
  {
   "cell_type": "markdown",
   "metadata": {},
   "source": [
    "## Calculate leaders and publish leaders based on average time"
   ]
  },
  {
   "cell_type": "code",
   "execution_count": 162,
   "metadata": {
    "scrolled": true
   },
   "outputs": [],
   "source": [
    "race = {}\n",
    "for laneresult in laneresults:\n",
    "    lane = laneresult[0]\n",
    "    car = races.loc[int(current_race),'Lane '+lane]\n",
    "    time = float(laneresult[2:8])\n",
    "    name = racers.loc[car,'Name']\n",
    "    den = racers.loc[car,'Den']\n",
    "    category = racers.loc[car,'Category']\n",
    "    place = laneresult[8:9]\n",
    "    \n",
    "    # Create results json\n",
    "    details = {'race' : current_race , 'lane' : int(lane), 'car': str(car), 'name': name, 'time': time, 'place': place, 'den': den, 'category': category} \n",
    "    trackName = 'lane' + str(lane)\n",
    "    race[trackName] = details\n",
    "    \n",
    " \n",
    "    # add den, category\n",
    "    resultsdf = resultsdf.append(details, ignore_index=True)\n",
    "    #print(details)\n",
    "   \n",
    "current_race = current_race +1\n",
    "resultsdf.to_csv('resultsFile2021.csv')\n"
   ]
  },
  {
   "cell_type": "code",
   "execution_count": null,
   "metadata": {
    "scrolled": true
   },
   "outputs": [],
   "source": [
    "## End of Race"
   ]
  },
  {
   "cell_type": "markdown",
   "metadata": {},
   "source": [
    "# Final Results"
   ]
  },
  {
   "cell_type": "code",
   "execution_count": null,
   "metadata": {
    "scrolled": true
   },
   "outputs": [],
   "source": [
    "## Den Results\n",
    "den_results = backup.groupby(['den','car','name']) \\\n",
    "       .agg({'car':'size', 'time':'mean'}) \\\n",
    "       .rename(columns={'car':'Races Completed'}) \\\n",
    "       .sort_values('time', ascending=True)\n",
    "       #.reset_index()\n",
    "print(den_results)"
   ]
  },
  {
   "cell_type": "code",
   "execution_count": 15,
   "metadata": {},
   "outputs": [],
   "source": [
    "den_results.to_csv('FinalScores.csv')"
   ]
  },
  {
   "cell_type": "code",
   "execution_count": null,
   "metadata": {
    "scrolled": true
   },
   "outputs": [],
   "source": [
    "## Den Results\n",
    "den_results = backup.groupby(['lane','car','name']) \\\n",
    "       .agg({'car':'size', 'time':'mean'}) \\\n",
    "       .rename(columns={'car':'Races Completed'}) \\\n",
    "       .sort_values('time', ascending=True)\n",
    "       #.reset_index()\n",
    "print(den_results)"
   ]
  },
  {
   "cell_type": "code",
   "execution_count": 34,
   "metadata": {
    "scrolled": true
   },
   "outputs": [
    {
     "name": "stdout",
     "output_type": "stream",
     "text": [
      "Empty DataFrame\n",
      "Columns: [Races Completed, Average Time]\n",
      "Index: []\n"
     ]
    }
   ],
   "source": [
    "# Get top cars\n",
    "standings = resultsdf.groupby('car') \\\n",
    "    .apply(lambda x: x.drop([x['time'].idxmax()]))\\\n",
    "    .rename_axis(['time','time'])\\\n",
    "    .groupby('car')\\\n",
    "    .agg({'car':'size', 'time':'mean'}) \\\n",
    "    .rename(columns={'car':'Races Completed','time':'Average Time'}) \\\n",
    "    .sort_values('Average Time', ascending=True)\n",
    "\n",
    "\n",
    "#standings = standings.sort_values('Average Time', ascending=True)\n",
    "print(standings.iloc[0:4])"
   ]
  },
  {
   "cell_type": "markdown",
   "metadata": {},
   "source": [
    "# Extra commands"
   ]
  },
  {
   "cell_type": "code",
   "execution_count": 35,
   "metadata": {
    "scrolled": true
   },
   "outputs": [
    {
     "ename": "NameError",
     "evalue": "name 'ser' is not defined",
     "output_type": "error",
     "traceback": [
      "\u001b[0;31m---------------------------------------------------------------------------\u001b[0m",
      "\u001b[0;31mNameError\u001b[0m                                 Traceback (most recent call last)",
      "\u001b[0;32m<ipython-input-35-e769ab802333>\u001b[0m in \u001b[0;36m<module>\u001b[0;34m\u001b[0m\n\u001b[1;32m      2\u001b[0m \u001b[0mcommand\u001b[0m \u001b[0;34m=\u001b[0m \u001b[0;34m'op2'\u001b[0m\u001b[0;34m+\u001b[0m\u001b[0;34m'\\r\\n'\u001b[0m\u001b[0;34m\u001b[0m\u001b[0;34m\u001b[0m\u001b[0m\n\u001b[1;32m      3\u001b[0m \u001b[0mnewcommand\u001b[0m \u001b[0;34m=\u001b[0m \u001b[0mcommand\u001b[0m\u001b[0;34m.\u001b[0m\u001b[0mencode\u001b[0m\u001b[0;34m(\u001b[0m\u001b[0;34m'ascii'\u001b[0m\u001b[0;34m)\u001b[0m\u001b[0;34m\u001b[0m\u001b[0;34m\u001b[0m\u001b[0m\n\u001b[0;32m----> 4\u001b[0;31m \u001b[0mser\u001b[0m\u001b[0;34m.\u001b[0m\u001b[0mwrite\u001b[0m\u001b[0;34m(\u001b[0m\u001b[0mnewcommand\u001b[0m\u001b[0;34m)\u001b[0m\u001b[0;34m\u001b[0m\u001b[0;34m\u001b[0m\u001b[0m\n\u001b[0m\u001b[1;32m      5\u001b[0m \u001b[0mreturnmessage\u001b[0m \u001b[0;34m=\u001b[0m \u001b[0mser\u001b[0m\u001b[0;34m.\u001b[0m\u001b[0mreadline\u001b[0m\u001b[0;34m(\u001b[0m\u001b[0;34m)\u001b[0m\u001b[0;34m\u001b[0m\u001b[0;34m\u001b[0m\u001b[0m\n\u001b[1;32m      6\u001b[0m \u001b[0mprint\u001b[0m\u001b[0;34m(\u001b[0m\u001b[0mreturnmessage\u001b[0m\u001b[0;34m.\u001b[0m\u001b[0mdecode\u001b[0m\u001b[0;34m(\u001b[0m\u001b[0;34m)\u001b[0m\u001b[0;34m)\u001b[0m\u001b[0;34m\u001b[0m\u001b[0;34m\u001b[0m\u001b[0m\n",
      "\u001b[0;31mNameError\u001b[0m: name 'ser' is not defined"
     ]
    }
   ],
   "source": [
    "# Turn on Set Place   indicatorto #\n",
    "command = 'op2'+'\\r\\n'\n",
    "newcommand = command.encode('ascii')\n",
    "ser.write(newcommand)\n",
    "returnmessage = ser.readline()\n",
    "print(returnmessage.decode())"
   ]
  },
  {
   "cell_type": "code",
   "execution_count": null,
   "metadata": {},
   "outputs": [],
   "source": [
    "backup = pd.read_csv('resultsFile2021.csv')\n",
    "backup.head()"
   ]
  },
  {
   "cell_type": "code",
   "execution_count": 39,
   "metadata": {
    "scrolled": true
   },
   "outputs": [
    {
     "ename": "NameError",
     "evalue": "name 'leaderdf' is not defined",
     "output_type": "error",
     "traceback": [
      "\u001b[0;31m---------------------------------------------------------------------------\u001b[0m",
      "\u001b[0;31mNameError\u001b[0m                                 Traceback (most recent call last)",
      "\u001b[0;32m<ipython-input-39-be13eee15457>\u001b[0m in \u001b[0;36m<module>\u001b[0;34m\u001b[0m\n\u001b[0;32m----> 1\u001b[0;31m \u001b[0mleaderdf\u001b[0m\u001b[0;34m.\u001b[0m\u001b[0mhead\u001b[0m\u001b[0;34m(\u001b[0m\u001b[0;34m)\u001b[0m\u001b[0;34m\u001b[0m\u001b[0;34m\u001b[0m\u001b[0m\n\u001b[0m",
      "\u001b[0;31mNameError\u001b[0m: name 'leaderdf' is not defined"
     ]
    }
   ],
   "source": [
    "leaderdf.head()"
   ]
  },
  {
   "cell_type": "code",
   "execution_count": 26,
   "metadata": {
    "scrolled": true
   },
   "outputs": [],
   "source": [
    "## extra functions update or rewrite Json for current race if needed to export\n",
    "currentRace = {'currentRace': race}\n",
    "with open('src/current.json', 'w') as outfile:\n",
    "    json.dump(currentRace, outfile)\n",
    "\n",
    "\n",
    "## update or rewrite Json for current race.  \n",
    "avg = resultsdf.groupby(['car','name']) \\\n",
    "       .agg({'car':'size', 'time':'mean'}) \\\n",
    "       .rename(columns={'car':'Races Completed'}) \\\n",
    "       .reset_index()\n",
    "\n",
    "avgtimes = avg.to_dict(orient='records')\n",
    "avgTimes = {'averageTimes': avgtimes}\n",
    "with open('src/avg.json', 'w') as outfile:\n",
    "    json.dump(avgTimes, outfile)\n",
    "\n",
    "top = resultsdf.groupby(['car','name']) \\\n",
    "       .agg({'time':'min'}) \\\n",
    "       .reset_index()\n",
    "\n",
    "toptimes = top.to_dict(orient='records')\n",
    "\n",
    "## update or rewrite Json for current race.  \n",
    "topTimes = {'topSpeeds': toptimes}\n",
    "with open('src/top.json', 'w') as outfile:\n",
    "    json.dump(topTimes, outfile)\n",
    "    \n",
    "# create Race Output for Upcoming race\n",
    "# for race, build details for lane\n",
    "# get lane 1 car\n",
    "race = {}\n",
    "lane = 1\n",
    "for carNum in races.loc[current_race]:\n",
    "    name = racers.loc[carNum,'Name']\n",
    "    #print(lane, carNum, name)\n",
    "    details = {'car': str(carNum), 'name': name}\n",
    "    trackName = 'lane' + str(lane)\n",
    "    race[trackName] = details\n",
    "    lane = lane +1\n",
    "\n",
    "nextup = {'nextUp': race}\n",
    "with open('src/nextup.json', 'w') as outfile:\n",
    "    json.dump(nextup, outfile)\n"
   ]
  },
  {
   "cell_type": "code",
   "execution_count": null,
   "metadata": {
    "scrolled": true
   },
   "outputs": [],
   "source": [
    "# Find Car by race and lane\n",
    "car = racedf.loc[1,'lane1']\n",
    "print (car)"
   ]
  },
  {
   "cell_type": "code",
   "execution_count": null,
   "metadata": {
    "scrolled": true
   },
   "outputs": [],
   "source": [
    "results = ser.readline()"
   ]
  },
  {
   "cell_type": "code",
   "execution_count": null,
   "metadata": {
    "scrolled": true
   },
   "outputs": [],
   "source": [
    "times = avg.loc[:,['car','name','Average Time']]\n",
    "times = times.reset_index()\n",
    "times.head()"
   ]
  },
  {
   "cell_type": "code",
   "execution_count": null,
   "metadata": {
    "scrolled": true
   },
   "outputs": [],
   "source": [
    "# delete race result or duplicate race result"
   ]
  },
  {
   "cell_type": "code",
   "execution_count": null,
   "metadata": {
    "scrolled": true
   },
   "outputs": [],
   "source": [
    "# write out rsults df and load from csv"
   ]
  },
  {
   "cell_type": "code",
   "execution_count": null,
   "metadata": {
    "scrolled": true
   },
   "outputs": [],
   "source": [
    "def serialwrite(code):\n",
    "    command = code +'\\r\\n'\n",
    "    #newcommand = command.encode('ascii')\n",
    "    #ser.write(newcommand)\n",
    "    #results = ser.readline()\n",
    "    #laneresults = results.decode().split()\n",
    "    #print(laneresults)\n",
    "    return results\n",
    "\n",
    "serialwrite('rg')"
   ]
  },
  {
   "cell_type": "code",
   "execution_count": null,
   "metadata": {
    "scrolled": true
   },
   "outputs": [],
   "source": [
    "currentrace['currentRace']['lane1']['time'] ='3.012'\n",
    "lastRace = currentrace['currentRace']\n",
    "type(lastRace)"
   ]
  }
 ],
 "metadata": {
  "kernelspec": {
   "display_name": "Python 3",
   "language": "python",
   "name": "python3"
  },
  "language_info": {
   "codemirror_mode": {
    "name": "ipython",
    "version": 3
   },
   "file_extension": ".py",
   "mimetype": "text/x-python",
   "name": "python",
   "nbconvert_exporter": "python",
   "pygments_lexer": "ipython3",
   "version": "3.6.9"
  }
 },
 "nbformat": 4,
 "nbformat_minor": 2
}
